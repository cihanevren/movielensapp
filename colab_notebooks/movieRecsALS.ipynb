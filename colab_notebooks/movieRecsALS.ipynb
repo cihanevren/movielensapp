{
  "nbformat": 4,
  "nbformat_minor": 0,
  "metadata": {
    "colab": {
      "name": "movieRecsALS.ipynb",
      "provenance": [],
      "collapsed_sections": []
    },
    "kernelspec": {
      "name": "python3",
      "display_name": "Python 3"
    },
    "language_info": {
      "name": "python"
    }
  },
  "cells": [
    {
      "cell_type": "code",
      "execution_count": null,
      "metadata": {
        "colab": {
          "base_uri": "https://localhost:8080/"
        },
        "id": "YiJbhbFz_qce",
        "outputId": "6b972533-eea7-4ca7-8ce2-47f93c1cbcec"
      },
      "outputs": [
        {
          "output_type": "stream",
          "name": "stdout",
          "text": [
            "Collecting ipython-autotime\n",
            "  Downloading ipython_autotime-0.3.1-py2.py3-none-any.whl (6.8 kB)\n",
            "Requirement already satisfied: ipython in /usr/local/lib/python3.7/dist-packages (from ipython-autotime) (5.5.0)\n",
            "Requirement already satisfied: pexpect in /usr/local/lib/python3.7/dist-packages (from ipython->ipython-autotime) (4.8.0)\n",
            "Requirement already satisfied: pickleshare in /usr/local/lib/python3.7/dist-packages (from ipython->ipython-autotime) (0.7.5)\n",
            "Requirement already satisfied: prompt-toolkit<2.0.0,>=1.0.4 in /usr/local/lib/python3.7/dist-packages (from ipython->ipython-autotime) (1.0.18)\n",
            "Requirement already satisfied: simplegeneric>0.8 in /usr/local/lib/python3.7/dist-packages (from ipython->ipython-autotime) (0.8.1)\n",
            "Requirement already satisfied: setuptools>=18.5 in /usr/local/lib/python3.7/dist-packages (from ipython->ipython-autotime) (57.4.0)\n",
            "Requirement already satisfied: decorator in /usr/local/lib/python3.7/dist-packages (from ipython->ipython-autotime) (4.4.2)\n",
            "Requirement already satisfied: traitlets>=4.2 in /usr/local/lib/python3.7/dist-packages (from ipython->ipython-autotime) (5.1.1)\n",
            "Requirement already satisfied: pygments in /usr/local/lib/python3.7/dist-packages (from ipython->ipython-autotime) (2.6.1)\n",
            "Requirement already satisfied: six>=1.9.0 in /usr/local/lib/python3.7/dist-packages (from prompt-toolkit<2.0.0,>=1.0.4->ipython->ipython-autotime) (1.15.0)\n",
            "Requirement already satisfied: wcwidth in /usr/local/lib/python3.7/dist-packages (from prompt-toolkit<2.0.0,>=1.0.4->ipython->ipython-autotime) (0.2.5)\n",
            "Requirement already satisfied: ptyprocess>=0.5 in /usr/local/lib/python3.7/dist-packages (from pexpect->ipython->ipython-autotime) (0.7.0)\n",
            "Installing collected packages: ipython-autotime\n",
            "Successfully installed ipython-autotime-0.3.1\n",
            "time: 26.5 s (started: 2022-01-21 18:57:43 +00:00)\n"
          ]
        }
      ],
      "source": [
        "#requirements to create spark session\n",
        "!pip install ipython-autotime\n",
        "%load_ext autotime\n",
        "\n",
        "!apt-get install openjdk-8-jdk-headless -qq > /dev/null\n",
        "\n",
        "!wget -q https://dlcdn.apache.org/spark/spark-3.0.3/spark-3.0.3-bin-hadoop2.7.tgz\n",
        "\n",
        "!tar xf /content/spark-3.0.3-bin-hadoop2.7.tgz\n",
        "\n",
        "!pip install -q findspark\n",
        "\n",
        "import os\n",
        "os.environ[\"JAVA_HOME\"] = \"/usr/lib/jvm/java-8-openjdk-amd64\"\n",
        "os.environ[\"SPARK_HOME\"] = \"/content/spark-3.0.3-bin-hadoop2.7\"\n",
        "\n",
        "import findspark\n",
        "findspark.init()\n",
        "\n",
        "\n",
        "from pyspark.sql import SparkSession\n",
        "\n",
        "spark = SparkSession.builder\\\n",
        "        .master(\"local\")\\\n",
        "        .appName(\"MovieRecommendation\")\\\n",
        "        .config('spark.ui.port', '4050')\\\n",
        "        .getOrCreate()"
      ]
    },
    {
      "cell_type": "code",
      "source": [
        "#unrar ratings and movies csv\n",
        "!unrar e /content/drive/MyDrive/ratings.rar\n",
        "!unrar e /content/drive/MyDrive/movies.rar"
      ],
      "metadata": {
        "colab": {
          "base_uri": "https://localhost:8080/"
        },
        "id": "OukGi0gSAEFV",
        "outputId": "e0341fce-2af1-4a4b-dd3f-ef68665c8ddd"
      },
      "execution_count": null,
      "outputs": [
        {
          "output_type": "stream",
          "name": "stdout",
          "text": [
            "\n",
            "UNRAR 5.50 freeware      Copyright (c) 1993-2017 Alexander Roshal\n",
            "\n",
            "\n",
            "Extracting from /content/drive/MyDrive/ratings.rar\n",
            "\n",
            "Extracting  ratings.csv                                                  \b\b\b\b  2%\b\b\b\b  4%\b\b\b\b  7%\b\b\b\b  9%\b\b\b\b 12%\b\b\b\b 14%\b\b\b\b 17%\b\b\b\b 19%\b\b\b\b 22%\b\b\b\b 24%\b\b\b\b 27%\b\b\b\b 29%\b\b\b\b 32%\b\b\b\b 34%\b\b\b\b 37%\b\b\b\b 39%\b\b\b\b 42%\b\b\b\b 44%\b\b\b\b 47%\b\b\b\b 49%\b\b\b\b 52%\b\b\b\b 54%\b\b\b\b 57%\b\b\b\b 59%\b\b\b\b 62%\b\b\b\b 64%\b\b\b\b 67%\b\b\b\b 69%\b\b\b\b 72%\b\b\b\b 74%\b\b\b\b 77%\b\b\b\b 79%\b\b\b\b 82%\b\b\b\b 84%\b\b\b\b 87%\b\b\b\b 89%\b\b\b\b 92%\b\b\b\b 94%\b\b\b\b 97%\b\b\b\b 99%\b\b\b\b\b  OK \n",
            "All OK\n",
            "\n",
            "UNRAR 5.50 freeware      Copyright (c) 1993-2017 Alexander Roshal\n",
            "\n",
            "\n",
            "Extracting from /content/drive/MyDrive/movies.rar\n",
            "\n",
            "Extracting  movies.csv                                                   \b\b\b\b 99%\b\b\b\b\b  OK \n",
            "All OK\n",
            "time: 10.4 s (started: 2022-01-21 19:06:16 +00:00)\n"
          ]
        }
      ]
    },
    {
      "cell_type": "code",
      "source": [
        "#read csv files as spark dataframe\n",
        "ratingsDf = spark.read.csv(\"/content/ratings.csv\", inferSchema=True, header = True)"
      ],
      "metadata": {
        "colab": {
          "base_uri": "https://localhost:8080/"
        },
        "id": "Y7TjukhvCELB",
        "outputId": "9f9cb966-c727-40f7-d58b-00e9ac0c25fe"
      },
      "execution_count": null,
      "outputs": [
        {
          "output_type": "stream",
          "name": "stdout",
          "text": [
            "time: 38.9 s (started: 2022-01-21 19:07:32 +00:00)\n"
          ]
        }
      ]
    },
    {
      "cell_type": "code",
      "source": [
        "moviesDf = spark.read.csv(\"/content/movies.csv\", inferSchema=True, header = True)"
      ],
      "metadata": {
        "colab": {
          "base_uri": "https://localhost:8080/"
        },
        "id": "xK34ZwgPCWqg",
        "outputId": "e92973d6-e634-44c8-b3d2-3998fa9ae5cc"
      },
      "execution_count": null,
      "outputs": [
        {
          "output_type": "stream",
          "name": "stdout",
          "text": [
            "time: 723 ms (started: 2022-01-21 19:08:14 +00:00)\n"
          ]
        }
      ]
    },
    {
      "cell_type": "code",
      "source": [
        "#import ml functions\n",
        "from pyspark.sql.functions import *\n",
        "from pyspark.ml.evaluation import RegressionEvaluator\n",
        "from pyspark.ml.recommendation import ALS"
      ],
      "metadata": {
        "colab": {
          "base_uri": "https://localhost:8080/"
        },
        "id": "ZguB7jBgCg-N",
        "outputId": "4d898d9d-c4a6-45e0-9199-585c3c3a393d"
      },
      "execution_count": null,
      "outputs": [
        {
          "output_type": "stream",
          "name": "stdout",
          "text": [
            "time: 242 ms (started: 2022-01-21 19:16:27 +00:00)\n"
          ]
        }
      ]
    },
    {
      "cell_type": "code",
      "source": [
        "ratingsDf.show()"
      ],
      "metadata": {
        "colab": {
          "base_uri": "https://localhost:8080/"
        },
        "id": "GSxNOf7NCh7d",
        "outputId": "7dc99605-a25c-4b0f-a8f7-97fb87c4a7fc"
      },
      "execution_count": null,
      "outputs": [
        {
          "output_type": "stream",
          "name": "stdout",
          "text": [
            "+------+-------+------+----------+\n",
            "|userId|movieId|rating| timestamp|\n",
            "+------+-------+------+----------+\n",
            "|     1|    296|   5.0|1147880044|\n",
            "|     1|    306|   3.5|1147868817|\n",
            "|     1|    307|   5.0|1147868828|\n",
            "|     1|    665|   5.0|1147878820|\n",
            "|     1|    899|   3.5|1147868510|\n",
            "|     1|   1088|   4.0|1147868495|\n",
            "|     1|   1175|   3.5|1147868826|\n",
            "|     1|   1217|   3.5|1147878326|\n",
            "|     1|   1237|   5.0|1147868839|\n",
            "|     1|   1250|   4.0|1147868414|\n",
            "|     1|   1260|   3.5|1147877857|\n",
            "|     1|   1653|   4.0|1147868097|\n",
            "|     1|   2011|   2.5|1147868079|\n",
            "|     1|   2012|   2.5|1147868068|\n",
            "|     1|   2068|   2.5|1147869044|\n",
            "|     1|   2161|   3.5|1147868609|\n",
            "|     1|   2351|   4.5|1147877957|\n",
            "|     1|   2573|   4.0|1147878923|\n",
            "|     1|   2632|   5.0|1147878248|\n",
            "|     1|   2692|   5.0|1147869100|\n",
            "+------+-------+------+----------+\n",
            "only showing top 20 rows\n",
            "\n",
            "time: 194 ms (started: 2022-01-21 19:17:48 +00:00)\n"
          ]
        }
      ]
    },
    {
      "cell_type": "code",
      "source": [
        "#join movies and ratings\n",
        "joinedDf = ratingsDf.join(moviesDf, \"movieId\" , \"left\")"
      ],
      "metadata": {
        "colab": {
          "base_uri": "https://localhost:8080/"
        },
        "id": "9HVouESsC4x0",
        "outputId": "a4440388-9ddb-43ba-9c24-4def0697f5fa"
      },
      "execution_count": null,
      "outputs": [
        {
          "output_type": "stream",
          "name": "stdout",
          "text": [
            "time: 33.1 ms (started: 2022-01-21 19:14:21 +00:00)\n"
          ]
        }
      ]
    },
    {
      "cell_type": "code",
      "source": [
        "#split train and test data\n",
        "(train,test) = joinedDf.randomSplit([0.8,0.2])"
      ],
      "metadata": {
        "colab": {
          "base_uri": "https://localhost:8080/"
        },
        "id": "ZXOBmkGiDVdG",
        "outputId": "a87ef0ce-e4c1-46e5-86a2-f12a602006d2"
      },
      "execution_count": null,
      "outputs": [
        {
          "output_type": "stream",
          "name": "stdout",
          "text": [
            "time: 40.5 ms (started: 2022-01-21 19:14:55 +00:00)\n"
          ]
        }
      ]
    },
    {
      "cell_type": "code",
      "source": [
        "#create ALS instance and evaluator instance\n",
        "als = ALS(maxIter=5, regParam=0.01, userCol = \"userId\", itemCol = \"movieId\" , ratingCol = \"rating\", nonnegative=True, implicitPrefs=False, coldStartStrategy=\"drop\")\n",
        "eval = RegressionEvaluator(metricName=\"rmse\", labelCol = \"rating\", predictionCol=\"prediction\")"
      ],
      "metadata": {
        "colab": {
          "base_uri": "https://localhost:8080/"
        },
        "id": "TZiwdkCcECt2",
        "outputId": "2e22e3d8-0833-4ac8-a1a9-34ef1c7a9505"
      },
      "execution_count": null,
      "outputs": [
        {
          "output_type": "stream",
          "name": "stdout",
          "text": [
            "time: 71.8 ms (started: 2022-01-21 19:21:34 +00:00)\n"
          ]
        }
      ]
    },
    {
      "cell_type": "code",
      "source": [
        "#fit model\n",
        "model = als.fit(train)"
      ],
      "metadata": {
        "colab": {
          "base_uri": "https://localhost:8080/"
        },
        "id": "B0G6cRqsFkKC",
        "outputId": "b9971c5a-ecbc-4a42-bdb5-ff10f0615861"
      },
      "execution_count": null,
      "outputs": [
        {
          "output_type": "stream",
          "name": "stdout",
          "text": [
            "time: 3min 20s (started: 2022-01-21 19:22:12 +00:00)\n"
          ]
        }
      ]
    },
    {
      "cell_type": "code",
      "source": [
        "#predict on test sat\n",
        "pred = model.transform(test)"
      ],
      "metadata": {
        "colab": {
          "base_uri": "https://localhost:8080/"
        },
        "id": "6R8IkqKPFtay",
        "outputId": "b675630c-bead-44b7-bcef-2b185ee8b693"
      },
      "execution_count": null,
      "outputs": [
        {
          "output_type": "stream",
          "name": "stdout",
          "text": [
            "time: 165 ms (started: 2022-01-21 19:26:10 +00:00)\n"
          ]
        }
      ]
    },
    {
      "cell_type": "code",
      "source": [
        "pred.show()"
      ],
      "metadata": {
        "colab": {
          "base_uri": "https://localhost:8080/"
        },
        "id": "I0oVUImHGnqn",
        "outputId": "732c2358-d180-4223-cbab-917f2f0a4302"
      },
      "execution_count": null,
      "outputs": [
        {
          "output_type": "stream",
          "name": "stdout",
          "text": [
            "+-------+------+------+----------+--------------------+------+----------+\n",
            "|movieId|userId|rating| timestamp|               title|genres|prediction|\n",
            "+-------+------+------+----------+--------------------+------+----------+\n",
            "|    148| 33138|   2.5|1120729036|Awfully Big Adven...| Drama|  2.616691|\n",
            "|    148| 35969|   2.0| 835094487|Awfully Big Adven...| Drama| 2.8453736|\n",
            "|    148| 60359|   3.0| 895230335|Awfully Big Adven...| Drama| 3.0563157|\n",
            "|    148| 72637|   3.0| 845637336|Awfully Big Adven...| Drama| 2.7196202|\n",
            "|    148| 14831|   3.0| 944148276|Awfully Big Adven...| Drama| 2.5379426|\n",
            "|    148| 31171|   2.0| 855003432|Awfully Big Adven...| Drama| 2.6036816|\n",
            "|    148|145182|   3.0| 944952722|Awfully Big Adven...| Drama|  2.604998|\n",
            "|    148|122011|   2.0|1030400425|Awfully Big Adven...| Drama| 1.9040611|\n",
            "|    148|104825|   4.0| 950909863|Awfully Big Adven...| Drama| 3.0337806|\n",
            "|    148| 80974|   3.5|1138041704|Awfully Big Adven...| Drama|  2.595951|\n",
            "|    148| 84667|   5.0| 832207176|Awfully Big Adven...| Drama| 3.4850688|\n",
            "|    148| 29213|   5.0|1366840729|Awfully Big Adven...| Drama| 2.4217336|\n",
            "|    148| 34058|   4.0| 963673787|Awfully Big Adven...| Drama| 3.3936954|\n",
            "|    148| 73977|   2.0| 965106877|Awfully Big Adven...| Drama| 3.1642723|\n",
            "|    148|  7223|   3.0| 839813031|Awfully Big Adven...| Drama| 2.5531764|\n",
            "|    148| 74794|   3.0| 989050056|Awfully Big Adven...| Drama| 2.3412147|\n",
            "|    148|110166|   4.5|1419358555|Awfully Big Adven...| Drama|   2.64473|\n",
            "|    148|112701|   4.0|1008641404|Awfully Big Adven...| Drama|  2.681239|\n",
            "|    148| 50403|   3.0| 859547410|Awfully Big Adven...| Drama| 3.2311578|\n",
            "|    148| 61529|   3.0| 831724979|Awfully Big Adven...| Drama| 3.3276396|\n",
            "+-------+------+------+----------+--------------------+------+----------+\n",
            "only showing top 20 rows\n",
            "\n",
            "time: 1min 41s (started: 2022-01-21 19:26:20 +00:00)\n"
          ]
        }
      ]
    },
    {
      "cell_type": "code",
      "source": [
        "#model evaluation\n",
        "rmse = eval.evaluate(pred)\n",
        "print(f\"RMSE : {rmse}\")"
      ],
      "metadata": {
        "colab": {
          "base_uri": "https://localhost:8080/"
        },
        "id": "eGtb3lyHGp_x",
        "outputId": "f4d5c785-fc52-4010-af38-089d01724619"
      },
      "execution_count": null,
      "outputs": [
        {
          "output_type": "stream",
          "name": "stdout",
          "text": [
            "RMSE : 0.8206877198091518\n",
            "time: 1min 47s (started: 2022-01-21 19:28:37 +00:00)\n"
          ]
        }
      ]
    },
    {
      "cell_type": "code",
      "source": [
        "#generate 10 recommendation for each user\n",
        "recs = model.recommendForAllUsers(10)"
      ],
      "metadata": {
        "colab": {
          "base_uri": "https://localhost:8080/"
        },
        "id": "xuj2G-HmHLhC",
        "outputId": "56d3ddef-0b7e-4c07-d2cc-2d34f7411df6"
      },
      "execution_count": null,
      "outputs": [
        {
          "output_type": "stream",
          "name": "stdout",
          "text": [
            "time: 739 ms (started: 2022-01-21 19:35:38 +00:00)\n"
          ]
        }
      ]
    },
    {
      "cell_type": "code",
      "source": [
        "recs.show()"
      ],
      "metadata": {
        "colab": {
          "base_uri": "https://localhost:8080/"
        },
        "id": "1MxdKdsKIyMc",
        "outputId": "4067ab98-2160-43e3-b349-56c0b0f8de46"
      },
      "execution_count": null,
      "outputs": [
        {
          "output_type": "stream",
          "name": "stdout",
          "text": [
            "+------+--------------------+\n",
            "|userId|     recommendations|\n",
            "+------+--------------------+\n",
            "|   148|[[152890, 11.8044...|\n",
            "|   463|[[169268, 21.6869...|\n",
            "|   471|[[159467, 16.7493...|\n",
            "|   496|[[146240, 17.0542...|\n",
            "|   833|[[153550, 14.0488...|\n",
            "|  1088|[[168314, 18.3119...|\n",
            "|  1238|[[134673, 13.1662...|\n",
            "|  1342|[[134673, 10.9081...|\n",
            "|  1580|[[135757, 23.2020...|\n",
            "|  1591|[[140353, 22.6117...|\n",
            "|  1645|[[135757, 21.3701...|\n",
            "|  1829|[[135757, 16.0226...|\n",
            "|  1959|[[159467, 19.1480...|\n",
            "|  2122|[[194268, 20.5756...|\n",
            "|  2142|[[159467, 21.5881...|\n",
            "|  2366|[[162740, 14.2473...|\n",
            "|  2659|[[194268, 22.6220...|\n",
            "|  2866|[[152890, 17.2809...|\n",
            "|  3175|[[135757, 15.6132...|\n",
            "|  3749|[[200196, 25.5390...|\n",
            "+------+--------------------+\n",
            "only showing top 20 rows\n",
            "\n",
            "time: 9min 34s (started: 2022-01-21 19:35:44 +00:00)\n"
          ]
        }
      ]
    },
    {
      "cell_type": "code",
      "source": [
        "#create new column movieid_rating\n",
        "df = recs.withColumn(\"movieid_rating\", explode(\"recommendations\"))"
      ],
      "metadata": {
        "colab": {
          "base_uri": "https://localhost:8080/"
        },
        "id": "Kef2hC8QIzmt",
        "outputId": "3f2a477f-44d8-4cf2-f5f0-326eafc0404c"
      },
      "execution_count": null,
      "outputs": [
        {
          "output_type": "stream",
          "name": "stdout",
          "text": [
            "time: 56.8 ms (started: 2022-01-21 19:45:54 +00:00)\n"
          ]
        }
      ]
    },
    {
      "cell_type": "code",
      "source": [
        "#select the necessary columns\n",
        "df2 = df.select(\"userId\", col(\"movieid_rating.movieId\"), col(\"movieid_rating.rating\"))"
      ],
      "metadata": {
        "colab": {
          "base_uri": "https://localhost:8080/"
        },
        "id": "ZLsE0aH8LIn6",
        "outputId": "1082f25d-3369-4404-a5ea-4f786a9923ad"
      },
      "execution_count": null,
      "outputs": [
        {
          "output_type": "stream",
          "name": "stdout",
          "text": [
            "time: 30.9 ms (started: 2022-01-21 20:03:43 +00:00)\n"
          ]
        }
      ]
    },
    {
      "cell_type": "code",
      "source": [
        "df2.show(50)"
      ],
      "metadata": {
        "colab": {
          "base_uri": "https://localhost:8080/"
        },
        "id": "20U0oKlXPPaR",
        "outputId": "9b4be2e1-3b35-4123-d445-5b483ba3d622"
      },
      "execution_count": null,
      "outputs": [
        {
          "output_type": "stream",
          "name": "stdout",
          "text": [
            "+------+-------+----------+\n",
            "|userId|movieId|    rating|\n",
            "+------+-------+----------+\n",
            "|   148| 152890|  11.80447|\n",
            "|   148| 153550| 11.354564|\n",
            "|   148| 159467| 10.674363|\n",
            "|   148| 197597| 10.130451|\n",
            "|   148| 137174| 10.082955|\n",
            "|   148| 134673| 10.074032|\n",
            "|   148| 165715|  9.947281|\n",
            "|   148| 197331|  9.735102|\n",
            "|   148| 151965|  9.631022|\n",
            "|   148| 146240| 9.2446575|\n",
            "|   463| 169268| 21.686922|\n",
            "|   463| 185669|  20.21122|\n",
            "|   463| 135757| 19.756544|\n",
            "|   463| 159133| 19.094116|\n",
            "|   463| 159137|  18.43109|\n",
            "|   463| 192689| 18.152624|\n",
            "|   463|  95697|  17.78563|\n",
            "|   463| 187503| 17.603071|\n",
            "|   463| 133387|  17.41904|\n",
            "|   463| 197931| 17.093155|\n",
            "|   471| 159467|  16.74932|\n",
            "|   471| 180169| 14.600527|\n",
            "|   471|  26968| 14.406885|\n",
            "|   471|  84996| 14.167627|\n",
            "|   471|  95697| 14.051222|\n",
            "|   471| 152890| 14.030488|\n",
            "|   471| 165715| 13.888521|\n",
            "|   471| 102980|13.6552925|\n",
            "|   471| 175275| 13.514925|\n",
            "|   471| 148791|   13.2492|\n",
            "|   496| 146240| 17.054262|\n",
            "|   496| 152890| 15.787232|\n",
            "|   496| 189159| 14.243376|\n",
            "|   496| 189157|  13.65548|\n",
            "|   496| 193369| 13.375437|\n",
            "|   496| 153550| 13.112418|\n",
            "|   496| 175455| 12.947382|\n",
            "|   496| 200196| 12.780022|\n",
            "|   496| 169502| 12.707476|\n",
            "|   496| 153919| 12.585795|\n",
            "|   833| 153550| 14.048877|\n",
            "|   833| 135757| 13.961163|\n",
            "|   833| 146146| 12.657274|\n",
            "|   833| 146240| 11.923408|\n",
            "|   833| 197931|   11.9178|\n",
            "|   833| 192689| 11.539899|\n",
            "|   833|  95697| 11.192057|\n",
            "|   833| 146116| 11.014944|\n",
            "|   833| 152890| 10.659688|\n",
            "|   833| 159467| 10.469417|\n",
            "+------+-------+----------+\n",
            "only showing top 50 rows\n",
            "\n",
            "time: 9min 16s (started: 2022-01-21 20:26:27 +00:00)\n"
          ]
        }
      ]
    },
    {
      "cell_type": "code",
      "source": [
        "#write data frame into csv\n",
        "df2.write.option(\"header\",True).csv(\"/content/drive/MyDrive/data_images/recommendations.csv\")"
      ],
      "metadata": {
        "colab": {
          "base_uri": "https://localhost:8080/"
        },
        "id": "Z1AfcwupN-rB",
        "outputId": "fdb96042-ea90-495b-cdc1-7b632d77fe53"
      },
      "execution_count": null,
      "outputs": [
        {
          "output_type": "stream",
          "name": "stdout",
          "text": [
            "time: 9min 59s (started: 2022-01-21 20:36:46 +00:00)\n"
          ]
        }
      ]
    },
    {
      "cell_type": "code",
      "source": [
        "#concatenate files\n",
        "os.system(\"cat /content/drive/MyDrive/data_images/recommendations.csv/p* > /content/drive/MyDrive/recommendations.csv\")"
      ],
      "metadata": {
        "colab": {
          "base_uri": "https://localhost:8080/"
        },
        "id": "oHUag5LuWxrE",
        "outputId": "7cd2ff6f-60c5-4db3-947b-5665c9245c75"
      },
      "execution_count": null,
      "outputs": [
        {
          "output_type": "execute_result",
          "data": {
            "text/plain": [
              "0"
            ]
          },
          "metadata": {},
          "execution_count": 36
        },
        {
          "output_type": "stream",
          "name": "stdout",
          "text": [
            "time: 854 ms (started: 2022-01-21 20:47:21 +00:00)\n"
          ]
        }
      ]
    },
    {
      "cell_type": "code",
      "source": [
        ""
      ],
      "metadata": {
        "id": "VRieZEKkZMx1"
      },
      "execution_count": null,
      "outputs": []
    }
  ]
}