{
  "nbformat": 4,
  "nbformat_minor": 0,
  "metadata": {
    "colab": {
      "name": "movieSort.ipynb",
      "provenance": [],
      "collapsed_sections": []
    },
    "kernelspec": {
      "name": "python3",
      "display_name": "Python 3"
    },
    "language_info": {
      "name": "python"
    }
  },
  "cells": [
    {
      "cell_type": "code",
      "execution_count": null,
      "metadata": {
        "id": "JOHVxQkHa8Y_"
      },
      "outputs": [],
      "source": [
        "!pip install ipython-autotime\n",
        "%load_ext autotime\n",
        "\n",
        "!apt-get install openjdk-8-jdk-headless -qq > /dev/null\n",
        "\n",
        "!wget -q https://dlcdn.apache.org/spark/spark-3.0.3/spark-3.0.3-bin-hadoop2.7.tgz\n",
        "\n",
        "!tar xf /content/spark-3.0.3-bin-hadoop2.7.tgz\n",
        "\n",
        "!pip install -q findspark\n",
        "\n",
        "import os\n",
        "os.environ[\"JAVA_HOME\"] = \"/usr/lib/jvm/java-8-openjdk-amd64\"\n",
        "os.environ[\"SPARK_HOME\"] = \"/content/spark-3.0.3-bin-hadoop2.7\"\n",
        "\n",
        "import findspark\n",
        "findspark.init()\n",
        "\n",
        "\n",
        "from pyspark.sql import SparkSession\n",
        "\n",
        "spark = SparkSession.builder\\\n",
        "        .master(\"local\")\\\n",
        "        .appName(\"MovieSort\")\\\n",
        "        .config('spark.ui.port', '4050')\\\n",
        "        .getOrCreate()"
      ]
    },
    {
      "cell_type": "code",
      "source": [
        "#unrar ratings and movies csv\n",
        "!unrar e /content/drive/MyDrive/ratings.rar\n",
        "!unrar e /content/drive/MyDrive/movies.rar"
      ],
      "metadata": {
        "id": "jB4NdRnwbPPn"
      },
      "execution_count": null,
      "outputs": []
    },
    {
      "cell_type": "code",
      "source": [
        "#read csv files as spark dataframe\n",
        "ratingsDf = spark.read.csv(\"/content/ratings.csv\", inferSchema=True, header = True)\n",
        "moviesDf = spark.read.csv(\"/content/movies.csv\", inferSchema=True, header = True)"
      ],
      "metadata": {
        "id": "6pxqBvYFbWpT"
      },
      "execution_count": null,
      "outputs": []
    },
    {
      "cell_type": "code",
      "source": [
        "#join tables movies and ratings\n",
        "joinedDf =ratingsDf.alias(\"ratings\").join(moviesDf.alias(\"movies\"),ratings.movieId == movies.movieId,\"inner\").select(\"ratings.userId\",\"ratings.movieId\",\"movies.title\",\"ratings.rating\",\"movies.genres\")\n",
        "joinedDf.show()\n"
      ],
      "metadata": {
        "id": "Yom_BYMAbWmX"
      },
      "execution_count": null,
      "outputs": []
    },
    {
      "cell_type": "code",
      "source": [
        "#group dataframe by title\n",
        "groupTitle = joinedDf.groupBy(\"title\").agg(sum('rating').alias(\"sum_rating\"), \\\n",
        "                                           count(\"rating\").alias(\"count_rating\"),\\\n",
        "                                           avg(\"rating\").alias(\"average_rating\"),first(\"genres\").alias(\"genres\"))\\\n",
        "                                           .sort(desc(\"sum_rating\"))\n",
        "groupTitle.show()"
      ],
      "metadata": {
        "id": "075QFF5pbWkA"
      },
      "execution_count": null,
      "outputs": []
    },
    {
      "cell_type": "code",
      "source": [
        "#sort movies by sum_rating to show top10\n",
        "groupTitle_sorted = groupTitle.sort(desc(\"sum_rating\"),desc(\"average_rating\"))"
      ],
      "metadata": {
        "id": "AeMoxC1KbWg4"
      },
      "execution_count": null,
      "outputs": []
    },
    {
      "cell_type": "code",
      "source": [
        "#write dataframe into csv\n",
        "groupTitle_sorted.write.option(\"header\",True).csv(\"/content/drive/MyDrive/data_images/sortedmovies.csv\")"
      ],
      "metadata": {
        "id": "ZxQsYZTgbWbq"
      },
      "execution_count": null,
      "outputs": []
    },
    {
      "cell_type": "code",
      "source": [
        "#concatenate files into csv\n",
        "os.system(\"cat /content/drive/MyDrive/data_images/sortedmovies.csv/p* > /content/drive/MyDrive/data_images/sortedmovies.csv\")"
      ],
      "metadata": {
        "id": "IyW6PxvGbWYo"
      },
      "execution_count": null,
      "outputs": []
    }
  ]
}